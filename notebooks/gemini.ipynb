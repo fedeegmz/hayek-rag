{
 "cells": [
  {
   "metadata": {},
   "cell_type": "markdown",
   "source": [
    "# Gemini AI Integration\n",
    "\n",
    "This notebook demonstrates how to integrate and use Google's Gemini AI model for text generation tasks.\n",
    "\n",
    "## Overview\n",
    "- Uses the Google Generative AI Python client library\n",
    "- Connects to Gemini 2.5 Flash model\n",
    "- Demonstrates basic text generation capabilities\n",
    "\n",
    "## Prerequisites\n",
    "- Google AI API key (get one from Google AI Studio)\n",
    "- Install required package: `uv add google-genai`\n",
    "\n",
    "## Usage\n",
    "1. Replace the API_KEY with your actual Google AI API key\n",
    "2. Run the cells to generate AI responses\n",
    "3. Modify the prompt to test different queries\n"
   ],
   "id": "3ad11c3ddbcacedf"
  },
  {
   "metadata": {},
   "cell_type": "code",
   "outputs": [],
   "execution_count": null,
   "source": [
    "from google import genai\n",
    "\n",
    "API_KEY = \"\"  ### add your api key here!\n",
    "client = genai.Client(api_key=API_KEY)\n",
    "\n",
    "response = client.models.generate_content(\n",
    "    model=\"gemini-2.5-flash\",\n",
    "    contents=\"Explain how AI works in a few words\"\n",
    ")\n",
    "\n",
    "print(response.text)"
   ],
   "id": "9b61caeab5b29a79"
  }
 ],
 "metadata": {
  "kernelspec": {
   "display_name": "Python 3",
   "language": "python",
   "name": "python3"
  },
  "language_info": {
   "codemirror_mode": {
    "name": "ipython",
    "version": 2
   },
   "file_extension": ".py",
   "mimetype": "text/x-python",
   "name": "python",
   "nbconvert_exporter": "python",
   "pygments_lexer": "ipython2",
   "version": "2.7.6"
  }
 },
 "nbformat": 4,
 "nbformat_minor": 5
}
